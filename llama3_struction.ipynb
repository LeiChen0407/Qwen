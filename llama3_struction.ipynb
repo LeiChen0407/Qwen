{
 "cells": [
  {
   "cell_type": "code",
   "execution_count": 1,
   "id": "7b4c4399",
   "metadata": {},
   "outputs": [
    {
     "name": "stderr",
     "output_type": "stream",
     "text": [
      "d:\\anaconda\\envs\\llm\\lib\\site-packages\\tqdm\\auto.py:21: TqdmWarning: IProgress not found. Please update jupyter and ipywidgets. See https://ipywidgets.readthedocs.io/en/stable/user_install.html\n",
      "  from .autonotebook import tqdm as notebook_tqdm\n",
      "d:\\anaconda\\envs\\llm\\lib\\site-packages\\transformers\\utils\\hub.py:111: FutureWarning: Using `TRANSFORMERS_CACHE` is deprecated and will be removed in v5 of Transformers. Use `HF_HOME` instead.\n",
      "  warnings.warn(\n"
     ]
    }
   ],
   "source": [
    "from transformers import AutoTokenizer, AutoModelForCausalLM,AutoModel\n",
    "import torch"
   ]
  },
  {
   "cell_type": "code",
   "execution_count": 2,
   "id": "0aee0e8e",
   "metadata": {},
   "outputs": [],
   "source": [
    "model_name = \"../../model/Qwen3-0.6B\"\n",
    "model = AutoModel.from_pretrained(model_name, device_map=\"auto\", torch_dtype=torch.float16,output_hidden_states=True,output_attentions=True).to(\"cuda:0\")\n",
    "tokenizer = AutoTokenizer.from_pretrained(model_name, use_fast=False)\n"
   ]
  },
  {
   "cell_type": "code",
   "execution_count": 3,
   "id": "957f6704",
   "metadata": {},
   "outputs": [
    {
     "name": "stderr",
     "output_type": "stream",
     "text": [
      "`torch.nn.functional.scaled_dot_product_attention` does not support `output_attentions=True`. Falling back to eager attention. This warning can be removed using the argument `attn_implementation=\"eager\"` when loading the model.\n"
     ]
    }
   ],
   "source": [
    "sentence = \"What is the capital of France?\"\n",
    "inputs = tokenizer(sentence, return_tensors=\"pt\").to(model.device)\n",
    "outputs = model(**inputs)\n"
   ]
  },
  {
   "cell_type": "code",
   "execution_count": 4,
   "id": "ce8ab2d4",
   "metadata": {},
   "outputs": [
    {
     "data": {
      "text/plain": [
       "tensor([[1.0000e+00, 0.0000e+00, 0.0000e+00, 0.0000e+00, 0.0000e+00, 0.0000e+00,\n",
       "         0.0000e+00],\n",
       "        [6.6699e-01, 3.3276e-01, 0.0000e+00, 0.0000e+00, 0.0000e+00, 0.0000e+00,\n",
       "         0.0000e+00],\n",
       "        [1.1823e-01, 6.2646e-01, 2.5513e-01, 0.0000e+00, 0.0000e+00, 0.0000e+00,\n",
       "         0.0000e+00],\n",
       "        [3.2690e-01, 3.1812e-01, 2.7539e-01, 7.9529e-02, 0.0000e+00, 0.0000e+00,\n",
       "         0.0000e+00],\n",
       "        [5.2673e-02, 3.2642e-01, 2.1741e-01, 5.3978e-04, 4.0308e-01, 0.0000e+00,\n",
       "         0.0000e+00],\n",
       "        [2.3376e-01, 2.8076e-01, 1.4856e-01, 3.6255e-02, 2.8418e-01, 1.6449e-02,\n",
       "         0.0000e+00],\n",
       "        [2.3743e-01, 1.2128e-01, 2.6489e-01, 4.5896e-06, 1.4075e-01, 4.5896e-06,\n",
       "         2.3560e-01]], device='cuda:0', dtype=torch.float16,\n",
       "       grad_fn=<SelectBackward0>)"
      ]
     },
     "execution_count": 4,
     "metadata": {},
     "output_type": "execute_result"
    }
   ],
   "source": [
    "outputs.attentions[0][0][0]"
   ]
  },
  {
   "cell_type": "code",
   "execution_count": 5,
   "id": "e4a0f0a4",
   "metadata": {},
   "outputs": [],
   "source": [
    "embeddings = model.get_input_embeddings()(inputs.input_ids)\n"
   ]
  },
  {
   "cell_type": "code",
   "execution_count": 26,
   "id": "0581b1f2",
   "metadata": {},
   "outputs": [
    {
     "data": {
      "text/plain": [
       "torch.Size([1, 7, 1024])"
      ]
     },
     "execution_count": 26,
     "metadata": {},
     "output_type": "execute_result"
    }
   ],
   "source": [
    "embeddings.shape"
   ]
  },
  {
   "cell_type": "code",
   "execution_count": 27,
   "id": "f61c4447",
   "metadata": {},
   "outputs": [
    {
     "data": {
      "text/plain": [
       "torch.Size([2048, 1024])"
      ]
     },
     "execution_count": 27,
     "metadata": {},
     "output_type": "execute_result"
    }
   ],
   "source": [
    "model.layers[0].self_attn.q_proj.weight.shape"
   ]
  },
  {
   "cell_type": "code",
   "execution_count": 6,
   "id": "82b926a4",
   "metadata": {},
   "outputs": [],
   "source": [
    "## no bias in Q, K, V\n",
    "Q_parameter = model.layers[0].self_attn.q_proj.weight.T[:,:128] ## [1024,128]\n",
    "\n",
    "K_parameter = model.layers[0].self_attn.k_proj.weight.T[:,:128] ## [1024,128]\n",
    "\n",
    "V_parameter = model.layers[0].self_attn.v_proj.weight.T[:,:128]  ## [1024,128]\n"
   ]
  },
  {
   "cell_type": "code",
   "execution_count": 7,
   "id": "250f4ae4",
   "metadata": {},
   "outputs": [],
   "source": [
    "\n",
    "import torch\n",
    "import math\n",
    "\n",
    "def build_rope_freqs(seq_len, head_dim, base=10000):\n",
    "    \"\"\"\n",
    "    构建用于 RoPE 的 sin 和 cos 位置编码表\n",
    "    输出形状：(seq_len, head_dim // 2)\n",
    "    \"\"\"\n",
    "    half_dim = head_dim // 2\n",
    "    pos = torch.arange(seq_len, dtype=torch.float32)\n",
    "    freqs = torch.pow(base, -torch.arange(0, half_dim, dtype=torch.float32) / half_dim)\n",
    "    angles = torch.einsum('i,j->ij', pos, freqs)  # (seq_len, half_dim)\n",
    "\n",
    "    sin = torch.sin(angles)  # (seq_len, half_dim)\n",
    "    cos = torch.cos(angles)\n",
    "    return sin, cos\n",
    "\n",
    "def apply_rope(x, sin, cos):\n",
    "    \"\"\"\n",
    "    对输入 x 应用 RoPE\n",
    "    x: (batch, seq_len, head_dim)\n",
    "    sin, cos: (seq_len, head_dim // 2)\n",
    "    \"\"\"\n",
    "    x1 = x[..., ::2]  # 偶数维\n",
    "    x2 = x[..., 1::2]  # 奇数维\n",
    "\n",
    "    # 将 sin, cos 调整形状匹配 (1, seq_len, head_dim // 2)\n",
    "    sin = sin.unsqueeze(0).to(x.device)\n",
    "    cos = cos.unsqueeze(0).to(x.device)\n",
    "\n",
    "    x_rotated = torch.cat([x1 * cos - x2 * sin, x1 * sin + x2 * cos], dim=-1)\n",
    "    return x_rotated\n",
    "\n",
    "# 示例参数\n",
    "batch = 1\n",
    "seq_len = 7\n",
    "head_dim = 128\n",
    "\n",
    "\n",
    "# 1. 构建 RoPE 编码\n",
    "sin, cos = build_rope_freqs(seq_len=seq_len, head_dim=head_dim)\n",
    "\n",
    "# 2. 应用 RoPE\n",
    "\n",
    "\n",
    "# # 3. 计算注意力分数（qk^T）-> (batch, seq_len, seq_len)\n",
    "# attn_scores = torch.matmul(q_rope, k_rope.transpose(-2, -1)) / math.sqrt(head_dim)\n",
    "\n",
    "\n",
    "\n"
   ]
  },
  {
   "cell_type": "code",
   "execution_count": null,
   "id": "01dd6ce4",
   "metadata": {},
   "outputs": [],
   "source": [
    "q_rope = apply_rope(Q, sin, cos)\n",
    "k_rope = apply_rope(K, sin, cos)"
   ]
  },
  {
   "cell_type": "code",
   "execution_count": null,
   "id": "9c191b6c",
   "metadata": {},
   "outputs": [],
   "source": [
    "attn_scores = torch.matmul(q_rope, k_rope.transpose(-2, -1)) / math.sqrt(head_dim)"
   ]
  },
  {
   "cell_type": "code",
   "execution_count": 27,
   "id": "1135ff7a",
   "metadata": {},
   "outputs": [
    {
     "data": {
      "text/plain": [
       "tensor([[[0.1427, 0.1429, 0.1428, 0.1427, 0.1430, 0.1427, 0.1433],\n",
       "         [0.1427, 0.1428, 0.1428, 0.1426, 0.1431, 0.1426, 0.1434],\n",
       "         [0.1429, 0.1430, 0.1429, 0.1426, 0.1430, 0.1427, 0.1428],\n",
       "         [0.1430, 0.1430, 0.1429, 0.1425, 0.1429, 0.1427, 0.1429],\n",
       "         [0.1429, 0.1431, 0.1430, 0.1425, 0.1432, 0.1426, 0.1428],\n",
       "         [0.1430, 0.1430, 0.1428, 0.1428, 0.1428, 0.1427, 0.1428],\n",
       "         [0.1429, 0.1430, 0.1429, 0.1424, 0.1432, 0.1425, 0.1431]]],\n",
       "       device='cuda:0', grad_fn=<SoftmaxBackward0>)"
      ]
     },
     "execution_count": 27,
     "metadata": {},
     "output_type": "execute_result"
    }
   ],
   "source": [
    "softmax(attn_scores)"
   ]
  },
  {
   "cell_type": "code",
   "execution_count": 9,
   "id": "890a2131",
   "metadata": {},
   "outputs": [],
   "source": [
    "import math\n",
    "Q = embeddings[0] @ Q_parameter ## [7,128]\n",
    "K = embeddings[0] @ K_parameter ## [7,128]\n",
    "Q = Q.unsqueeze(0)  ## [1,7,128]\n",
    "K = K.unsqueeze(0)  ## [1,7,128]\n",
    "\n",
    "# QKt = Q @ K.T ## [7,7]\n",
    "# QKt = QKt / (math.sqrt(128))  \n",
    "# softmax = torch.nn.Softmax(dim=-1)\n",
    "# attention = softmax(QKt)"
   ]
  },
  {
   "cell_type": "code",
   "execution_count": null,
   "id": "77aaa10e",
   "metadata": {},
   "outputs": [],
   "source": [
    "QKt = q_rope[0] @ k_rope[0].T\n",
    "QKt = QKt / (math.sqrt(128))  \n",
    "softmax = torch.nn.Softmax(dim=-1)\n",
    "attention = softmax(QKt)"
   ]
  },
  {
   "cell_type": "code",
   "execution_count": 26,
   "id": "96abc6b0",
   "metadata": {},
   "outputs": [
    {
     "data": {
      "text/plain": [
       "tensor([[0.1427, 0.1429, 0.1428, 0.1427, 0.1430, 0.1427, 0.1433],\n",
       "        [0.1427, 0.1428, 0.1428, 0.1426, 0.1431, 0.1426, 0.1434],\n",
       "        [0.1429, 0.1430, 0.1429, 0.1426, 0.1430, 0.1427, 0.1428],\n",
       "        [0.1430, 0.1430, 0.1429, 0.1425, 0.1429, 0.1427, 0.1429],\n",
       "        [0.1429, 0.1431, 0.1430, 0.1425, 0.1432, 0.1426, 0.1428],\n",
       "        [0.1430, 0.1430, 0.1428, 0.1428, 0.1428, 0.1427, 0.1428],\n",
       "        [0.1429, 0.1430, 0.1429, 0.1424, 0.1432, 0.1425, 0.1431]],\n",
       "       device='cuda:0', grad_fn=<SoftmaxBackward0>)"
      ]
     },
     "execution_count": 26,
     "metadata": {},
     "output_type": "execute_result"
    }
   ],
   "source": [
    "attention "
   ]
  },
  {
   "cell_type": "code",
   "execution_count": null,
   "id": "3ee534a9",
   "metadata": {},
   "outputs": [
    {
     "data": {
      "text/plain": [
       "tensor([[0.1427, 0.1429, 0.1428, 0.1427, 0.1430, 0.1427, 0.1433],\n",
       "        [0.1427, 0.1428, 0.1428, 0.1426, 0.1431, 0.1426, 0.1434],\n",
       "        [0.1429, 0.1430, 0.1429, 0.1426, 0.1430, 0.1427, 0.1428],\n",
       "        [0.1430, 0.1430, 0.1429, 0.1425, 0.1429, 0.1427, 0.1429],\n",
       "        [0.1429, 0.1431, 0.1430, 0.1425, 0.1432, 0.1426, 0.1428],\n",
       "        [0.1430, 0.1430, 0.1428, 0.1428, 0.1428, 0.1427, 0.1428],\n",
       "        [0.1429, 0.1430, 0.1429, 0.1424, 0.1432, 0.1425, 0.1431]],\n",
       "       device='cuda:0', grad_fn=<SoftmaxBackward0>)"
      ]
     },
     "execution_count": 20,
     "metadata": {},
     "output_type": "execute_result"
    }
   ],
   "source": [
    "attention"
   ]
  },
  {
   "cell_type": "code",
   "execution_count": 48,
   "id": "88b24df6",
   "metadata": {},
   "outputs": [
    {
     "data": {
      "text/plain": [
       "tensor([0.1427, 0.1428, 0.1428, 0.1431, 0.1428, 0.1429, 0.1429],\n",
       "       device='cuda:0', dtype=torch.float16, grad_fn=<SelectBackward0>)"
      ]
     },
     "execution_count": 48,
     "metadata": {},
     "output_type": "execute_result"
    }
   ],
   "source": [
    "attention[:,0]"
   ]
  },
  {
   "cell_type": "code",
   "execution_count": 49,
   "id": "77ddbf32",
   "metadata": {},
   "outputs": [
    {
     "data": {
      "text/plain": [
       "tensor([[0.1427, 0.1429, 0.1428, 0.1427, 0.1429, 0.1428, 0.1431],\n",
       "        [0.1428, 0.1429, 0.1429, 0.1427, 0.1431, 0.1428, 0.1427],\n",
       "        [0.1428, 0.1429, 0.1428, 0.1426, 0.1431, 0.1426, 0.1431],\n",
       "        [0.1431, 0.1429, 0.1428, 0.1425, 0.1429, 0.1426, 0.1431],\n",
       "        [0.1428, 0.1432, 0.1429, 0.1425, 0.1432, 0.1427, 0.1427],\n",
       "        [0.1429, 0.1429, 0.1428, 0.1428, 0.1428, 0.1428, 0.1428],\n",
       "        [0.1429, 0.1431, 0.1429, 0.1423, 0.1431, 0.1425, 0.1431]],\n",
       "       device='cuda:0', dtype=torch.float16, grad_fn=<SoftmaxBackward0>)"
      ]
     },
     "execution_count": 49,
     "metadata": {},
     "output_type": "execute_result"
    }
   ],
   "source": [
    "attention"
   ]
  },
  {
   "cell_type": "code",
   "execution_count": 50,
   "id": "7d104b54",
   "metadata": {},
   "outputs": [
    {
     "data": {
      "text/plain": [
       "tensor(1., device='cuda:0', dtype=torch.float16, grad_fn=<AddBackward0>)"
      ]
     },
     "execution_count": 50,
     "metadata": {},
     "output_type": "execute_result"
    }
   ],
   "source": [
    "sum(attention[:,0])"
   ]
  },
  {
   "cell_type": "code",
   "execution_count": 51,
   "id": "6fb2d033",
   "metadata": {},
   "outputs": [
    {
     "data": {
      "text/plain": [
       "Qwen3Model(\n",
       "  (embed_tokens): Embedding(151936, 1024)\n",
       "  (layers): ModuleList(\n",
       "    (0-27): 28 x Qwen3DecoderLayer(\n",
       "      (self_attn): Qwen3Attention(\n",
       "        (q_proj): Linear(in_features=1024, out_features=2048, bias=False)\n",
       "        (k_proj): Linear(in_features=1024, out_features=1024, bias=False)\n",
       "        (v_proj): Linear(in_features=1024, out_features=1024, bias=False)\n",
       "        (o_proj): Linear(in_features=2048, out_features=1024, bias=False)\n",
       "        (q_norm): Qwen3RMSNorm((128,), eps=1e-06)\n",
       "        (k_norm): Qwen3RMSNorm((128,), eps=1e-06)\n",
       "      )\n",
       "      (mlp): Qwen3MLP(\n",
       "        (gate_proj): Linear(in_features=1024, out_features=3072, bias=False)\n",
       "        (up_proj): Linear(in_features=1024, out_features=3072, bias=False)\n",
       "        (down_proj): Linear(in_features=3072, out_features=1024, bias=False)\n",
       "        (act_fn): SiLU()\n",
       "      )\n",
       "      (input_layernorm): Qwen3RMSNorm((1024,), eps=1e-06)\n",
       "      (post_attention_layernorm): Qwen3RMSNorm((1024,), eps=1e-06)\n",
       "    )\n",
       "  )\n",
       "  (norm): Qwen3RMSNorm((1024,), eps=1e-06)\n",
       "  (rotary_emb): Qwen3RotaryEmbedding()\n",
       ")"
      ]
     },
     "execution_count": 51,
     "metadata": {},
     "output_type": "execute_result"
    }
   ],
   "source": [
    "model"
   ]
  },
  {
   "cell_type": "code",
   "execution_count": 61,
   "id": "b971bd24",
   "metadata": {},
   "outputs": [
    {
     "data": {
      "text/plain": [
       "Qwen3Config {\n",
       "  \"architectures\": [\n",
       "    \"Qwen3ForCausalLM\"\n",
       "  ],\n",
       "  \"attention_bias\": false,\n",
       "  \"attention_dropout\": 0.0,\n",
       "  \"bos_token_id\": 151643,\n",
       "  \"eos_token_id\": 151645,\n",
       "  \"head_dim\": 128,\n",
       "  \"hidden_act\": \"silu\",\n",
       "  \"hidden_size\": 1024,\n",
       "  \"initializer_range\": 0.02,\n",
       "  \"intermediate_size\": 3072,\n",
       "  \"max_position_embeddings\": 40960,\n",
       "  \"max_window_layers\": 28,\n",
       "  \"model_type\": \"qwen3\",\n",
       "  \"num_attention_heads\": 16,\n",
       "  \"num_hidden_layers\": 28,\n",
       "  \"num_key_value_heads\": 8,\n",
       "  \"output_attentions\": true,\n",
       "  \"output_hidden_states\": true,\n",
       "  \"rms_norm_eps\": 1e-06,\n",
       "  \"rope_scaling\": null,\n",
       "  \"rope_theta\": 1000000,\n",
       "  \"sliding_window\": null,\n",
       "  \"tie_word_embeddings\": true,\n",
       "  \"torch_dtype\": \"float16\",\n",
       "  \"transformers_version\": \"4.52.4\",\n",
       "  \"use_cache\": true,\n",
       "  \"use_sliding_window\": false,\n",
       "  \"vocab_size\": 151936\n",
       "}"
      ]
     },
     "execution_count": 61,
     "metadata": {},
     "output_type": "execute_result"
    }
   ],
   "source": [
    "model.config"
   ]
  },
  {
   "cell_type": "code",
   "execution_count": null,
   "id": "44996429",
   "metadata": {},
   "outputs": [],
   "source": []
  }
 ],
 "metadata": {
  "kernelspec": {
   "display_name": "llm",
   "language": "python",
   "name": "python3"
  },
  "language_info": {
   "codemirror_mode": {
    "name": "ipython",
    "version": 3
   },
   "file_extension": ".py",
   "mimetype": "text/x-python",
   "name": "python",
   "nbconvert_exporter": "python",
   "pygments_lexer": "ipython3",
   "version": "3.10.18"
  }
 },
 "nbformat": 4,
 "nbformat_minor": 5
}
